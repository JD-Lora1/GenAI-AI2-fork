{
 "cells": [
  {
   "cell_type": "code",
   "execution_count": 7,
   "metadata": {},
   "outputs": [
    {
     "name": "stdout",
     "output_type": "stream",
     "text": [
      "Python 3.10.14\n"
     ]
    }
   ],
   "source": [
    "!python --version"
   ]
  },
  {
   "cell_type": "code",
   "execution_count": 8,
   "metadata": {},
   "outputs": [
    {
     "name": "stdout",
     "output_type": "stream",
     "text": [
      "# packages in environment at c:\\Users\\4616289\\Desktop\\code\\GenAI\\GenAI\\.conda:\n",
      "#\n",
      "# Name                    Version                   Build  Channel\n",
      "absl-py                   2.1.0                    pypi_0    pypi\n",
      "accelerate                0.33.0                   pypi_0    pypi\n",
      "aiohappyeyeballs          2.3.5                    pypi_0    pypi\n",
      "aiohttp                   3.10.1                   pypi_0    pypi\n",
      "aiosignal                 1.3.1                    pypi_0    pypi\n",
      "asttokens                 2.4.1              pyhd8ed1ab_0    conda-forge\n",
      "astunparse                1.6.3                    pypi_0    pypi\n",
      "async-timeout             4.0.3                    pypi_0    pypi\n",
      "attrs                     24.2.0                   pypi_0    pypi\n",
      "bzip2                     1.0.8                h2bbff1b_6  \n",
      "ca-certificates           2024.7.4             h56e8100_0    conda-forge\n",
      "certifi                   2024.7.4                 pypi_0    pypi\n",
      "charset-normalizer        3.3.2                    pypi_0    pypi\n",
      "click                     8.1.7                    pypi_0    pypi\n",
      "colorama                  0.4.6              pyhd8ed1ab_0    conda-forge\n",
      "comm                      0.2.2              pyhd8ed1ab_0    conda-forge\n",
      "datasets                  2.20.0                   pypi_0    pypi\n",
      "debugpy                   1.8.5           py310h9e98ed7_0    conda-forge\n",
      "decorator                 5.1.1              pyhd8ed1ab_0    conda-forge\n",
      "dill                      0.3.6                    pypi_0    pypi\n",
      "evaluate                  0.4.0                    pypi_0    pypi\n",
      "exceptiongroup            1.2.2              pyhd8ed1ab_0    conda-forge\n",
      "executing                 2.0.1              pyhd8ed1ab_0    conda-forge\n",
      "filelock                  3.15.4                   pypi_0    pypi\n",
      "flatbuffers               24.3.25                  pypi_0    pypi\n",
      "frozenlist                1.4.1                    pypi_0    pypi\n",
      "fsspec                    2024.2.0                 pypi_0    pypi\n",
      "gast                      0.6.0                    pypi_0    pypi\n",
      "google-pasta              0.2.0                    pypi_0    pypi\n",
      "grpcio                    1.65.4                   pypi_0    pypi\n",
      "h5py                      3.11.0                   pypi_0    pypi\n",
      "huggingface-hub           0.24.5                   pypi_0    pypi\n",
      "idna                      3.7                      pypi_0    pypi\n",
      "importlib-metadata        8.2.0              pyha770c72_0    conda-forge\n",
      "importlib_metadata        8.2.0                hd8ed1ab_0    conda-forge\n",
      "ipykernel                 6.29.5             pyh4bbf305_0    conda-forge\n",
      "ipython                   8.26.0             pyh7428d3b_0    conda-forge\n",
      "ipywidgets                8.1.3                    pypi_0    pypi\n",
      "jedi                      0.19.1             pyhd8ed1ab_0    conda-forge\n",
      "joblib                    1.4.2                    pypi_0    pypi\n",
      "jupyter_client            8.6.2              pyhd8ed1ab_0    conda-forge\n",
      "jupyter_core              5.7.2           py310h5588dad_0    conda-forge\n",
      "jupyterlab-widgets        3.0.11                   pypi_0    pypi\n",
      "keras                     3.5.0                    pypi_0    pypi\n",
      "krb5                      1.21.3               hdf4eb48_0    conda-forge\n",
      "libclang                  18.1.1                   pypi_0    pypi\n",
      "libffi                    3.4.4                hd77b12b_1  \n",
      "libsodium                 1.0.18               h8d14728_1    conda-forge\n",
      "loralib                   0.1.1                    pypi_0    pypi\n",
      "markdown                  3.6                      pypi_0    pypi\n",
      "markdown-it-py            3.0.0                    pypi_0    pypi\n",
      "markupsafe                2.1.5                    pypi_0    pypi\n",
      "matplotlib-inline         0.1.7              pyhd8ed1ab_0    conda-forge\n",
      "mdurl                     0.1.2                    pypi_0    pypi\n",
      "ml-dtypes                 0.4.0                    pypi_0    pypi\n",
      "multidict                 6.0.5                    pypi_0    pypi\n",
      "multiprocess              0.70.14                  pypi_0    pypi\n",
      "namex                     0.0.8                    pypi_0    pypi\n",
      "nest-asyncio              1.6.0              pyhd8ed1ab_0    conda-forge\n",
      "nltk                      3.8.2                    pypi_0    pypi\n",
      "numpy                     1.26.4                   pypi_0    pypi\n",
      "openssl                   3.3.1                h2466b09_2    conda-forge\n",
      "opt-einsum                3.3.0                    pypi_0    pypi\n",
      "optree                    0.12.1                   pypi_0    pypi\n",
      "packaging                 24.1               pyhd8ed1ab_0    conda-forge\n",
      "pandas                    2.2.2                    pypi_0    pypi\n",
      "parso                     0.8.4              pyhd8ed1ab_0    conda-forge\n",
      "peft                      0.3.0                    pypi_0    pypi\n",
      "pickleshare               0.7.5                   py_1003    conda-forge\n",
      "pip                       24.2                     pypi_0    pypi\n",
      "platformdirs              4.2.2              pyhd8ed1ab_0    conda-forge\n",
      "portalocker               2.10.1                   pypi_0    pypi\n",
      "prompt-toolkit            3.0.47             pyha770c72_0    conda-forge\n",
      "protobuf                  4.25.4                   pypi_0    pypi\n",
      "psutil                    6.0.0           py310ha8f682b_0    conda-forge\n",
      "pure_eval                 0.2.3              pyhd8ed1ab_0    conda-forge\n",
      "pyarrow                   17.0.0                   pypi_0    pypi\n",
      "pyarrow-hotfix            0.6                      pypi_0    pypi\n",
      "pygments                  2.18.0             pyhd8ed1ab_0    conda-forge\n",
      "python                    3.10.14              he1021f5_1  \n",
      "python-dateutil           2.9.0              pyhd8ed1ab_0    conda-forge\n",
      "python_abi                3.10                    2_cp310    conda-forge\n",
      "pytz                      2024.1                   pypi_0    pypi\n",
      "pywin32                   306             py310h00ffb61_2    conda-forge\n",
      "pyyaml                    6.0.2                    pypi_0    pypi\n",
      "pyzmq                     26.1.0          py310h656833d_0    conda-forge\n",
      "regex                     2024.7.24                pypi_0    pypi\n",
      "requests                  2.32.3                   pypi_0    pypi\n",
      "responses                 0.18.0                   pypi_0    pypi\n",
      "rich                      13.7.1                   pypi_0    pypi\n",
      "rouge-score               0.1.2                    pypi_0    pypi\n",
      "safetensors               0.4.4                    pypi_0    pypi\n",
      "setuptools                69.5.1          py310haa95532_0  \n",
      "six                       1.16.0             pyh6c4a22f_0    conda-forge\n",
      "sqlite                    3.45.3               h2bbff1b_0  \n",
      "stack_data                0.6.2              pyhd8ed1ab_0    conda-forge\n",
      "tensorboard               2.17.0                   pypi_0    pypi\n",
      "tensorboard-data-server   0.7.2                    pypi_0    pypi\n",
      "tensorflow-io-gcs-filesystem 0.31.0                   pypi_0    pypi\n",
      "termcolor                 2.4.0                    pypi_0    pypi\n",
      "tk                        8.6.14               h0416ee5_0  \n",
      "tokenizers                0.13.3                   pypi_0    pypi\n",
      "torch                     1.13.1                   pypi_0    pypi\n",
      "torchdata                 0.5.1                    pypi_0    pypi\n",
      "tornado                   6.4.1           py310ha8f682b_0    conda-forge\n",
      "tqdm                      4.66.5                   pypi_0    pypi\n",
      "traitlets                 5.14.3             pyhd8ed1ab_0    conda-forge\n",
      "transformers              4.27.2                   pypi_0    pypi\n",
      "typing_extensions         4.12.2             pyha770c72_0    conda-forge\n",
      "tzdata                    2024.1                   pypi_0    pypi\n",
      "ucrt                      10.0.22621.0         h57928b3_0    conda-forge\n",
      "urllib3                   2.2.2                    pypi_0    pypi\n",
      "vc                        14.2                 h2eaa2aa_4  \n",
      "vc14_runtime              14.40.33810         ha82c5b3_20    conda-forge\n",
      "vs2015_runtime            14.40.33810         h3bf8584_20    conda-forge\n",
      "wcwidth                   0.2.13             pyhd8ed1ab_0    conda-forge\n",
      "werkzeug                  3.0.3                    pypi_0    pypi\n",
      "wheel                     0.43.0          py310haa95532_0  \n",
      "widgetsnbextension        4.0.11                   pypi_0    pypi\n",
      "wrapt                     1.16.0                   pypi_0    pypi\n",
      "xxhash                    3.4.1                    pypi_0    pypi\n",
      "xz                        5.4.6                h8cc25b3_1  \n",
      "yarl                      1.9.4                    pypi_0    pypi\n",
      "zeromq                    4.3.5                he1f189c_4    conda-forge\n",
      "zipp                      3.19.2             pyhd8ed1ab_0    conda-forge\n",
      "zlib                      1.2.13               h8cc25b3_1  \n"
     ]
    }
   ],
   "source": [
    "!conda list"
   ]
  },
  {
   "cell_type": "code",
   "execution_count": 3,
   "metadata": {},
   "outputs": [
    {
     "name": "stderr",
     "output_type": "stream",
     "text": [
      "\n",
      "KeyboardInterrupt\n",
      "\n"
     ]
    }
   ],
   "source": [
    "%conda install tensorflow "
   ]
  },
  {
   "cell_type": "code",
   "execution_count": 4,
   "metadata": {},
   "outputs": [
    {
     "name": "stdout",
     "output_type": "stream",
     "text": [
      "2.17.0\n",
      "False\n"
     ]
    }
   ],
   "source": [
    "import tensorflow as tf\n",
    "print(tf.__version__)\n",
    "print(tf.test.is_gpu_available())"
   ]
  },
  {
   "cell_type": "code",
   "execution_count": 6,
   "metadata": {},
   "outputs": [
    {
     "name": "stdout",
     "output_type": "stream",
     "text": [
      "[]\n"
     ]
    }
   ],
   "source": [
    "import os\n",
    "os.environ[\"CUDA_VISIBLE_DEVICES\"] = \"0\"\n",
    "print(tf.config.list_physical_devices('GPU'))"
   ]
  },
  {
   "cell_type": "code",
   "execution_count": 7,
   "metadata": {},
   "outputs": [
    {
     "name": "stdout",
     "output_type": "stream",
     "text": [
      "# conda environments:\n",
      "#\n",
      "base                     C:\\ProgramData\\anaconda3\n",
      "envpy310                 C:\\Users\\4616289\\.conda\\envs\\envpy310\n",
      "myenv                    C:\\Users\\4616289\\.conda\\envs\\myenv\n",
      "                         c:\\Users\\4616289\\Desktop\\code\\GenAI\\.conda\n",
      "                      *  c:\\Users\\4616289\\Desktop\\code\\GenAI\\GenAI\\.conda\n",
      "                         c:\\Users\\4616289\\Desktop\\code\\client_azure_AI\\.conda\n",
      "                         c:\\Users\\4616289\\Desktop\\code\\deeplearning\\.conda\n",
      "                         c:\\Users\\4616289\\OneDrive - Universidad Icesi\\Documentos\\code\\streamlit\\.conda\n",
      "\n"
     ]
    }
   ],
   "source": [
    "!conda env list"
   ]
  },
  {
   "cell_type": "code",
   "execution_count": 8,
   "metadata": {},
   "outputs": [
    {
     "name": "stdout",
     "output_type": "stream",
     "text": [
      "False\n"
     ]
    }
   ],
   "source": [
    "with tf.device('/device:GPU:0'):\n",
    "    print(tf.test.is_gpu_available())"
   ]
  },
  {
   "cell_type": "code",
   "execution_count": null,
   "metadata": {},
   "outputs": [],
   "source": []
  }
 ],
 "metadata": {
  "kernelspec": {
   "display_name": "Python 3",
   "language": "python",
   "name": "python3"
  },
  "language_info": {
   "codemirror_mode": {
    "name": "ipython",
    "version": 3
   },
   "file_extension": ".py",
   "mimetype": "text/x-python",
   "name": "python",
   "nbconvert_exporter": "python",
   "pygments_lexer": "ipython3",
   "version": "3.10.14"
  }
 },
 "nbformat": 4,
 "nbformat_minor": 2
}
