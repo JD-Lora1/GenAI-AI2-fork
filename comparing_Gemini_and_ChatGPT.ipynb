{
  "nbformat": 4,
  "nbformat_minor": 0,
  "metadata": {
    "colab": {
      "provenance": [],
      "include_colab_link": true
    },
    "kernelspec": {
      "name": "python3",
      "display_name": "Python 3"
    },
    "language_info": {
      "name": "python"
    }
  },
  "cells": [
    {
      "cell_type": "markdown",
      "metadata": {
        "id": "view-in-github",
        "colab_type": "text"
      },
      "source": [
        "<a href=\"https://colab.research.google.com/github/armandoordonez/GenAI/blob/main/comparing_Gemini_and_ChatGPT.ipynb\" target=\"_parent\"><img src=\"https://colab.research.google.com/assets/colab-badge.svg\" alt=\"Open In Colab\"/></a>"
      ]
    },
    {
      "cell_type": "markdown",
      "source": [
        "<b>Use Gemini and ChatGPT to learn from two capable teachers</b>\n",
        "\n",
        "Use Google's latest model release, Gemini, to teach you what you want to know and compare those with ChatGPT's responses.\n",
        "\n",
        "The models are specifically prompted not to generate extra text to make it easier to compare any differences."
      ],
      "metadata": {
        "id": "ZWhWniBGu3_Y"
      }
    },
    {
      "cell_type": "code",
      "source": [
        "#@title Configure Gemini API key\n",
        "\n",
        "# access your Gemini API key\n",
        "\n",
        "import google.generativeai as genai\n",
        "from google.colab import userdata\n",
        "\n",
        "gemini_api_secret_name = 'GEMINI_API_KEY'  # @param {type: \"string\"}\n",
        "\n",
        "try:\n",
        "  GOOGLE_API_KEY=userdata.get(gemini_api_secret_name)\n",
        "  genai.configure(api_key=GOOGLE_API_KEY)\n",
        "except userdata.SecretNotFoundError as e:\n",
        "   print(f'''Secret not found\\n\\nThis expects you to create a secret named {gemini_api_secret_name} in Colab\\n\\nVisit https://makersuite.google.com/app/apikey to create an API key\\n\\nStore that in the secrets section on the left side of the notebook (key icon)\\n\\nName the secret {gemini_api_secret_name}''')\n",
        "   raise e\n",
        "except userdata.NotebookAccessError as e:\n",
        "  print(f'''You need to grant this notebook access to the {gemini_api_secret_name} secret in order for the notebook to access Gemini on your behalf.''')\n",
        "  raise e\n",
        "except Exception as e:\n",
        "  # unknown error\n",
        "  print(f\"There was an unknown error. Ensure you have a secret {gemini_api_secret_name} stored in Colab and it's a valid key from https://makersuite.google.com/app/apikey\")\n",
        "  raise e\n",
        "\n",
        "model = genai.GenerativeModel('gemini-pro')"
      ],
      "metadata": {
        "cellView": "form",
        "id": "HAg5Vlk-TjdX"
      },
      "execution_count": null,
      "outputs": []
    },
    {
      "cell_type": "code",
      "source": [
        "#@title Configure OpenAI API key\n",
        "\n",
        "# access your OpenAI API key\n",
        "\n",
        "# installing llmx first isn't necessary but avoids a confusing error when installing openai\n",
        "!pip install -q llmx\n",
        "!pip install -q openai\n",
        "from openai import OpenAI\n",
        "\n",
        "openai_api_secret_name = 'OPENAI_API_KEY'  # @param {type: \"string\"}\n",
        "\n",
        "try:\n",
        "  OPENAI_API_KEY=userdata.get(openai_api_secret_name)\n",
        "  client = OpenAI(\n",
        "    api_key=OPENAI_API_KEY\n",
        "  )\n",
        "except userdata.SecretNotFoundError as e:\n",
        "   print(f'''Secret not found\\n\\nThis expects you to create a secret named {openai_api_secret_name} in Colab\\n\\nVisit https://platform.openai.com/api-keys to create an API key\\n\\nStore that in the secrets section on the left side of the notebook (key icon)\\n\\nName the secret {openai_api_secret_name}''')\n",
        "   raise e\n",
        "except userdata.NotebookAccessError as e:\n",
        "  print(f'''You need to grant this notebook access to the {openai_api_secret_name} secret in order for the notebook to access Gemini on your behalf.''')\n",
        "  raise e\n",
        "except Exception as e:\n",
        "  # unknown error\n",
        "  print(f\"There was an unknown error. Ensure you have a secret {openai_api_secret_name} stored in Colab and it's a valid key from https://platform.openai.com/api-keys\")\n",
        "  raise e\n"
      ],
      "metadata": {
        "id": "yFv1abRcv2P2",
        "cellView": "form",
        "outputId": "f748aa84-22de-4ef2-9dbb-21ca19a254a2",
        "colab": {
          "base_uri": "https://localhost:8080/"
        }
      },
      "execution_count": null,
      "outputs": [
        {
          "output_type": "stream",
          "name": "stdout",
          "text": [
            "\u001b[?25l   \u001b[90m━━━━━━━━━━━━━━━━━━━━━━━━━━━━━━━━━━━━━━━━\u001b[0m \u001b[32m0.0/249.2 kB\u001b[0m \u001b[31m?\u001b[0m eta \u001b[36m-:--:--\u001b[0m\r\u001b[2K   \u001b[90m━━━━━━━━━━━━━━━━━━━━━━━━━━━━━━━━━━━━━━━━\u001b[0m \u001b[32m249.2/249.2 kB\u001b[0m \u001b[31m8.1 MB/s\u001b[0m eta \u001b[36m0:00:00\u001b[0m\n",
            "\u001b[?25h\u001b[?25l   \u001b[90m━━━━━━━━━━━━━━━━━━━━━━━━━━━━━━━━━━━━━━━━\u001b[0m \u001b[32m0.0/45.5 kB\u001b[0m \u001b[31m?\u001b[0m eta \u001b[36m-:--:--\u001b[0m\r\u001b[2K   \u001b[90m━━━━━━━━━━━━━━━━━━━━━━━━━━━━━━━━━━━━━━━━\u001b[0m \u001b[32m45.5/45.5 kB\u001b[0m \u001b[31m2.9 MB/s\u001b[0m eta \u001b[36m0:00:00\u001b[0m\n",
            "\u001b[2K   \u001b[90m━━━━━━━━━━━━━━━━━━━━━━━━━━━━━━━━━━━━━━━━\u001b[0m \u001b[32m383.7/383.7 kB\u001b[0m \u001b[31m16.3 MB/s\u001b[0m eta \u001b[36m0:00:00\u001b[0m\n",
            "\u001b[2K   \u001b[90m━━━━━━━━━━━━━━━━━━━━━━━━━━━━━━━━━━━━━━━━\u001b[0m \u001b[32m1.2/1.2 MB\u001b[0m \u001b[31m41.0 MB/s\u001b[0m eta \u001b[36m0:00:00\u001b[0m\n",
            "\u001b[2K   \u001b[90m━━━━━━━━━━━━━━━━━━━━━━━━━━━━━━━━━━━━━━━━\u001b[0m \u001b[32m139.1/139.1 kB\u001b[0m \u001b[31m10.8 MB/s\u001b[0m eta \u001b[36m0:00:00\u001b[0m\n",
            "\u001b[2K   \u001b[90m━━━━━━━━━━━━━━━━━━━━━━━━━━━━━━━━━━━━━━━━\u001b[0m \u001b[32m3.1/3.1 MB\u001b[0m \u001b[31m70.1 MB/s\u001b[0m eta \u001b[36m0:00:00\u001b[0m\n",
            "\u001b[2K   \u001b[90m━━━━━━━━━━━━━━━━━━━━━━━━━━━━━━━━━━━━━━━━\u001b[0m \u001b[32m76.4/76.4 kB\u001b[0m \u001b[31m6.0 MB/s\u001b[0m eta \u001b[36m0:00:00\u001b[0m\n",
            "\u001b[2K   \u001b[90m━━━━━━━━━━━━━━━━━━━━━━━━━━━━━━━━━━━━━━━━\u001b[0m \u001b[32m78.0/78.0 kB\u001b[0m \u001b[31m6.3 MB/s\u001b[0m eta \u001b[36m0:00:00\u001b[0m\n",
            "\u001b[2K   \u001b[90m━━━━━━━━━━━━━━━━━━━━━━━━━━━━━━━━━━━━━━━━\u001b[0m \u001b[32m325.2/325.2 kB\u001b[0m \u001b[31m21.3 MB/s\u001b[0m eta \u001b[36m0:00:00\u001b[0m\n",
            "\u001b[2K   \u001b[90m━━━━━━━━━━━━━━━━━━━━━━━━━━━━━━━━━━━━━━━━\u001b[0m \u001b[32m1.6/1.6 MB\u001b[0m \u001b[31m57.3 MB/s\u001b[0m eta \u001b[36m0:00:00\u001b[0m\n",
            "\u001b[2K   \u001b[90m━━━━━━━━━━━━━━━━━━━━━━━━━━━━━━━━━━━━━━━━\u001b[0m \u001b[32m60.8/60.8 kB\u001b[0m \u001b[31m4.7 MB/s\u001b[0m eta \u001b[36m0:00:00\u001b[0m\n",
            "\u001b[2K   \u001b[90m━━━━━━━━━━━━━━━━━━━━━━━━━━━━━━━━━━━━━━━━\u001b[0m \u001b[32m12.6/12.6 MB\u001b[0m \u001b[31m71.8 MB/s\u001b[0m eta \u001b[36m0:00:00\u001b[0m\n",
            "\u001b[2K   \u001b[90m━━━━━━━━━━━━━━━━━━━━━━━━━━━━━━━━━━━━━━━━\u001b[0m \u001b[32m82.6/82.6 kB\u001b[0m \u001b[31m6.7 MB/s\u001b[0m eta \u001b[36m0:00:00\u001b[0m\n",
            "\u001b[2K   \u001b[90m━━━━━━━━━━━━━━━━━━━━━━━━━━━━━━━━━━━━━━━━\u001b[0m \u001b[32m388.4/388.4 kB\u001b[0m \u001b[31m24.4 MB/s\u001b[0m eta \u001b[36m0:00:00\u001b[0m\n",
            "\u001b[2K   \u001b[90m━━━━━━━━━━━━━━━━━━━━━━━━━━━━━━━━━━━━━━━━\u001b[0m \u001b[32m147.8/147.8 kB\u001b[0m \u001b[31m11.8 MB/s\u001b[0m eta \u001b[36m0:00:00\u001b[0m\n",
            "\u001b[2K   \u001b[90m━━━━━━━━━━━━━━━━━━━━━━━━━━━━━━━━━━━━━━━━\u001b[0m \u001b[32m82.1/82.1 kB\u001b[0m \u001b[31m6.5 MB/s\u001b[0m eta \u001b[36m0:00:00\u001b[0m\n",
            "\u001b[2K   \u001b[90m━━━━━━━━━━━━━━━━━━━━━━━━━━━━━━━━━━━━━━━━\u001b[0m \u001b[32m119.4/119.4 kB\u001b[0m \u001b[31m7.6 MB/s\u001b[0m eta \u001b[36m0:00:00\u001b[0m\n",
            "\u001b[2K   \u001b[90m━━━━━━━━━━━━━━━━━━━━━━━━━━━━━━━━━━━━━━━━\u001b[0m \u001b[32m58.3/58.3 kB\u001b[0m \u001b[31m4.3 MB/s\u001b[0m eta \u001b[36m0:00:00\u001b[0m\n",
            "\u001b[2K   \u001b[90m━━━━━━━━━━━━━━━━━━━━━━━━━━━━━━━━━━━━━━━━\u001b[0m \u001b[32m26.7/26.7 MB\u001b[0m \u001b[31m55.6 MB/s\u001b[0m eta \u001b[36m0:00:00\u001b[0m\n",
            "\u001b[2K   \u001b[90m━━━━━━━━━━━━━━━━━━━━━━━━━━━━━━━━━━━━━━━━\u001b[0m \u001b[32m5.7/5.7 MB\u001b[0m \u001b[31m76.2 MB/s\u001b[0m eta \u001b[36m0:00:00\u001b[0m\n",
            "\u001b[2K   \u001b[90m━━━━━━━━━━━━━━━━━━━━━━━━━━━━━━━━━━━━━━━━\u001b[0m \u001b[32m134.8/134.8 kB\u001b[0m \u001b[31m9.9 MB/s\u001b[0m eta \u001b[36m0:00:00\u001b[0m\n",
            "\u001b[2K   \u001b[90m━━━━━━━━━━━━━━━━━━━━━━━━━━━━━━━━━━━━━━━━\u001b[0m \u001b[32m56.8/56.8 kB\u001b[0m \u001b[31m4.2 MB/s\u001b[0m eta \u001b[36m0:00:00\u001b[0m\n",
            "\u001b[2K   \u001b[90m━━━━━━━━━━━━━━━━━━━━━━━━━━━━━━━━━━━━━━━━\u001b[0m \u001b[32m233.2/233.2 kB\u001b[0m \u001b[31m15.7 MB/s\u001b[0m eta \u001b[36m0:00:00\u001b[0m\n",
            "\u001b[2K   \u001b[90m━━━━━━━━━━━━━━━━━━━━━━━━━━━━━━━━━━━━━━━━\u001b[0m \u001b[32m128.2/128.2 kB\u001b[0m \u001b[31m10.1 MB/s\u001b[0m eta \u001b[36m0:00:00\u001b[0m\n",
            "\u001b[2K   \u001b[90m━━━━━━━━━━━━━━━━━━━━━━━━━━━━━━━━━━━━━━━━\u001b[0m \u001b[32m85.0/85.0 kB\u001b[0m \u001b[31m6.1 MB/s\u001b[0m eta \u001b[36m0:00:00\u001b[0m\n",
            "\u001b[2K   \u001b[90m━━━━━━━━━━━━━━━━━━━━━━━━━━━━━━━━━━━━━━━━\u001b[0m \u001b[32m52.8/52.8 kB\u001b[0m \u001b[31m4.0 MB/s\u001b[0m eta \u001b[36m0:00:00\u001b[0m\n",
            "\u001b[2K   \u001b[90m━━━━━━━━━━━━━━━━━━━━━━━━━━━━━━━━━━━━━━━━\u001b[0m \u001b[32m565.6/565.6 kB\u001b[0m \u001b[31m33.3 MB/s\u001b[0m eta \u001b[36m0:00:00\u001b[0m\n",
            "\u001b[2K   \u001b[90m━━━━━━━━━━━━━━━━━━━━━━━━━━━━━━━━━━━━━━━━\u001b[0m \u001b[32m207.3/207.3 kB\u001b[0m \u001b[31m14.6 MB/s\u001b[0m eta \u001b[36m0:00:00\u001b[0m\n",
            "\u001b[2K   \u001b[90m━━━━━━━━━━━━━━━━━━━━━━━━━━━━━━━━━━━━━━━━\u001b[0m \u001b[32m203.2/203.2 kB\u001b[0m \u001b[31m14.8 MB/s\u001b[0m eta \u001b[36m0:00:00\u001b[0m\n",
            "\u001b[2K   \u001b[90m━━━━━━━━━━━━━━━━━━━━━━━━━━━━━━━━━━━━━━━━\u001b[0m \u001b[32m78.6/78.6 kB\u001b[0m \u001b[31m5.4 MB/s\u001b[0m eta \u001b[36m0:00:00\u001b[0m\n",
            "\u001b[2K   \u001b[90m━━━━━━━━━━━━━━━━━━━━━━━━━━━━━━━━━━━━━━━━\u001b[0m \u001b[32m62.7/62.7 kB\u001b[0m \u001b[31m4.3 MB/s\u001b[0m eta \u001b[36m0:00:00\u001b[0m\n",
            "\u001b[?25h"
          ]
        }
      ]
    },
    {
      "cell_type": "code",
      "source": [
        "#@title Ask a question!\n",
        "\n",
        "text = 'Write a python function that calculates the distance between any two latitudes and longitudes on earth' # @param {type:\"string\"}\n",
        "\n",
        "# ask Gemini\n",
        "model = genai.GenerativeModel('gemini-pro')\n",
        "chat = model.start_chat(history=[])\n",
        "\n",
        "response = chat.send_message('%s -- Please answer as concisely as you can, avoiding any extra conversation or text' % text)\n",
        "gemini_response = response.text\n",
        "\n",
        "# ask ChatGPT\n",
        "completion = client.chat.completions.create(\n",
        "  model=\"gpt-3.5-turbo\",\n",
        "  messages=[\n",
        "    {\"role\": \"user\", \"content\": '%s -- Please answer as concisely as you can, avoiding any extra conversation or text' % text}\n",
        "  ]\n",
        ")\n",
        "\n",
        "openai_response = completion.choices[0].message.content\n",
        "\n",
        "# render the diff\n",
        "\n",
        "# importing these every execution is unnecessary but avoids another notebook cell\n",
        "from IPython.display import HTML\n",
        "import difflib\n",
        "\n",
        "# omit the legend to slim down the UI\n",
        "difflib.HtmlDiff._legend = ''\n",
        "\n",
        "HTML(difflib.HtmlDiff().make_file(gemini_response.splitlines(), openai_response.splitlines(), 'Gemini', 'ChatGPT'))"
      ],
      "metadata": {
        "colab": {
          "base_uri": "https://localhost:8080/",
          "height": 490
        },
        "cellView": "form",
        "id": "timFyiyRYEqz",
        "outputId": "7460c49f-401c-4ff0-93b6-7bb9b76e95b2"
      },
      "execution_count": null,
      "outputs": [
        {
          "output_type": "execute_result",
          "data": {
            "text/plain": [
              "<IPython.core.display.HTML object>"
            ],
            "text/html": [
              "\n",
              "<!DOCTYPE html PUBLIC \"-//W3C//DTD XHTML 1.0 Transitional//EN\"\n",
              "          \"http://www.w3.org/TR/xhtml1/DTD/xhtml1-transitional.dtd\">\n",
              "\n",
              "<html>\n",
              "\n",
              "<head>\n",
              "    <meta http-equiv=\"Content-Type\"\n",
              "          content=\"text/html; charset=utf-8\" />\n",
              "    <title></title>\n",
              "    <style type=\"text/css\">\n",
              "        table.diff {font-family:Courier; border:medium;}\n",
              "        .diff_header {background-color:#e0e0e0}\n",
              "        td.diff_header {text-align:right}\n",
              "        .diff_next {background-color:#c0c0c0}\n",
              "        .diff_add {background-color:#aaffaa}\n",
              "        .diff_chg {background-color:#ffff77}\n",
              "        .diff_sub {background-color:#ffaaaa}\n",
              "    </style>\n",
              "</head>\n",
              "\n",
              "<body>\n",
              "    \n",
              "    <table class=\"diff\" id=\"difflib_chg_to0__top\"\n",
              "           cellspacing=\"0\" cellpadding=\"0\" rules=\"groups\" >\n",
              "        <colgroup></colgroup> <colgroup></colgroup> <colgroup></colgroup>\n",
              "        <colgroup></colgroup> <colgroup></colgroup> <colgroup></colgroup>\n",
              "        <thead><tr><th class=\"diff_next\"><br /></th><th colspan=\"2\" class=\"diff_header\">Gemini</th><th class=\"diff_next\"><br /></th><th colspan=\"2\" class=\"diff_header\">ChatGPT</th></tr></thead>\n",
              "        <tbody>\n",
              "            <tr><td class=\"diff_next\" id=\"difflib_chg_to0__1\"><a href=\"#difflib_chg_to0__1\">n</a></td><td class=\"diff_header\" id=\"from0_1\">1</td><td nowrap=\"nowrap\"><span class=\"diff_sub\">```python</span></td><td class=\"diff_next\"><a href=\"#difflib_chg_to0__1\">n</a></td><td class=\"diff_header\" id=\"to0_1\">1</td><td nowrap=\"nowrap\"><span class=\"diff_add\">from&nbsp;math&nbsp;import&nbsp;sin,&nbsp;cos,&nbsp;sqrt,&nbsp;atan2,&nbsp;radians</span></td></tr>\n",
              "            <tr><td class=\"diff_next\" id=\"difflib_chg_to0__2\"></td><td class=\"diff_header\" id=\"from0_2\">2</td><td nowrap=\"nowrap\"><span class=\"diff_sub\">import&nbsp;math</span></td><td class=\"diff_next\"></td><td class=\"diff_header\"></td><td nowrap=\"nowrap\"></td></tr>\n",
              "            <tr><td class=\"diff_next\"></td><td class=\"diff_header\" id=\"from0_3\">3</td><td nowrap=\"nowrap\"></td><td class=\"diff_next\"></td><td class=\"diff_header\" id=\"to0_2\">2</td><td nowrap=\"nowrap\"></td></tr>\n",
              "            <tr><td class=\"diff_next\"><a href=\"#difflib_chg_to0__2\">n</a></td><td class=\"diff_header\" id=\"from0_4\">4</td><td nowrap=\"nowrap\">def&nbsp;distance(lat1,&nbsp;lon1,&nbsp;lat2,&nbsp;lon2):</td><td class=\"diff_next\"><a href=\"#difflib_chg_to0__2\">n</a></td><td class=\"diff_header\" id=\"to0_3\">3</td><td nowrap=\"nowrap\">def&nbsp;<span class=\"diff_add\">calculate_</span>distance(lat1,&nbsp;lon1,&nbsp;lat2,&nbsp;lon2):</td></tr>\n",
              "            <tr><td class=\"diff_next\"></td><td class=\"diff_header\" id=\"from0_5\">5</td><td nowrap=\"nowrap\"><span class=\"diff_sub\">&nbsp;&nbsp;&nbsp;&nbsp;\"\"\"Calculate&nbsp;the&nbsp;distance&nbsp;between&nbsp;two&nbsp;latitudes&nbsp;and&nbsp;longitudes&nbsp;on&nbsp;earth.\"\"\"</span></td><td class=\"diff_next\"></td><td class=\"diff_header\" id=\"to0_4\">4</td><td nowrap=\"nowrap\"><span class=\"diff_add\">&nbsp;&nbsp;&nbsp;&nbsp;R&nbsp;=&nbsp;6371&nbsp;&nbsp;#&nbsp;Radius&nbsp;of&nbsp;the&nbsp;Earth&nbsp;in&nbsp;km</span></td></tr>\n",
              "            <tr><td class=\"diff_next\"></td><td class=\"diff_header\" id=\"from0_6\">6</td><td nowrap=\"nowrap\"></td><td class=\"diff_next\"></td><td class=\"diff_header\" id=\"to0_5\">5</td><td nowrap=\"nowrap\"></td></tr>\n",
              "            <tr><td class=\"diff_next\"><a href=\"#difflib_chg_to0__3\">n</a></td><td class=\"diff_header\" id=\"from0_7\">7</td><td nowrap=\"nowrap\"><span class=\"diff_sub\">&nbsp;&nbsp;&nbsp;&nbsp;#&nbsp;Convert&nbsp;latitudes&nbsp;and&nbsp;longitudes&nbsp;to&nbsp;radians</span></td><td class=\"diff_next\"><a href=\"#difflib_chg_to0__3\">n</a></td><td class=\"diff_header\"></td><td nowrap=\"nowrap\"></td></tr>\n",
              "            <tr><td class=\"diff_next\" id=\"difflib_chg_to0__3\"></td><td class=\"diff_header\" id=\"from0_8\">8</td><td nowrap=\"nowrap\">&nbsp;&nbsp;&nbsp;&nbsp;lat1&nbsp;=&nbsp;<span class=\"diff_sub\">math.</span>radians(lat1)</td><td class=\"diff_next\"></td><td class=\"diff_header\" id=\"to0_6\">6</td><td nowrap=\"nowrap\">&nbsp;&nbsp;&nbsp;&nbsp;lat1&nbsp;=&nbsp;radians(lat1)</td></tr>\n",
              "            <tr><td class=\"diff_next\"></td><td class=\"diff_header\" id=\"from0_9\">9</td><td nowrap=\"nowrap\">&nbsp;&nbsp;&nbsp;&nbsp;lon1&nbsp;=&nbsp;<span class=\"diff_sub\">math.</span>radians(lon1)</td><td class=\"diff_next\"></td><td class=\"diff_header\" id=\"to0_7\">7</td><td nowrap=\"nowrap\">&nbsp;&nbsp;&nbsp;&nbsp;lon1&nbsp;=&nbsp;radians(lon1)</td></tr>\n",
              "            <tr><td class=\"diff_next\"></td><td class=\"diff_header\" id=\"from0_10\">10</td><td nowrap=\"nowrap\">&nbsp;&nbsp;&nbsp;&nbsp;lat2&nbsp;=&nbsp;<span class=\"diff_sub\">math.</span>radians(lat2)</td><td class=\"diff_next\"></td><td class=\"diff_header\" id=\"to0_8\">8</td><td nowrap=\"nowrap\">&nbsp;&nbsp;&nbsp;&nbsp;lat2&nbsp;=&nbsp;radians(lat2)</td></tr>\n",
              "            <tr><td class=\"diff_next\"></td><td class=\"diff_header\" id=\"from0_11\">11</td><td nowrap=\"nowrap\">&nbsp;&nbsp;&nbsp;&nbsp;lon2&nbsp;=&nbsp;<span class=\"diff_sub\">math.</span>radians(lon2)</td><td class=\"diff_next\"></td><td class=\"diff_header\" id=\"to0_9\">9</td><td nowrap=\"nowrap\">&nbsp;&nbsp;&nbsp;&nbsp;lon2&nbsp;=&nbsp;radians(lon2)</td></tr>\n",
              "            <tr><td class=\"diff_next\" id=\"difflib_chg_to0__4\"></td><td class=\"diff_header\" id=\"from0_12\">12</td><td nowrap=\"nowrap\"></td><td class=\"diff_next\"></td><td class=\"diff_header\" id=\"to0_10\">10</td><td nowrap=\"nowrap\"></td></tr>\n",
              "            <tr><td class=\"diff_next\"><a href=\"#difflib_chg_to0__4\">n</a></td><td class=\"diff_header\" id=\"from0_13\">13</td><td nowrap=\"nowrap\"><span class=\"diff_sub\">&nbsp;&nbsp;&nbsp;&nbsp;#&nbsp;Calculate&nbsp;the&nbsp;difference&nbsp;between&nbsp;latitudes&nbsp;and&nbsp;longitudes</span></td><td class=\"diff_next\"><a href=\"#difflib_chg_to0__4\">n</a></td><td class=\"diff_header\"></td><td nowrap=\"nowrap\"></td></tr>\n",
              "            <tr><td class=\"diff_next\"></td><td class=\"diff_header\" id=\"from0_14\">14</td><td nowrap=\"nowrap\">&nbsp;&nbsp;&nbsp;&nbsp;dlat&nbsp;=&nbsp;lat2&nbsp;-&nbsp;lat1</td><td class=\"diff_next\"></td><td class=\"diff_header\" id=\"to0_11\">11</td><td nowrap=\"nowrap\">&nbsp;&nbsp;&nbsp;&nbsp;dlat&nbsp;=&nbsp;lat2&nbsp;-&nbsp;lat1</td></tr>\n",
              "            <tr><td class=\"diff_next\"></td><td class=\"diff_header\" id=\"from0_15\">15</td><td nowrap=\"nowrap\">&nbsp;&nbsp;&nbsp;&nbsp;dlon&nbsp;=&nbsp;lon2&nbsp;-&nbsp;lon1</td><td class=\"diff_next\"></td><td class=\"diff_header\" id=\"to0_12\">12</td><td nowrap=\"nowrap\">&nbsp;&nbsp;&nbsp;&nbsp;dlon&nbsp;=&nbsp;lon2&nbsp;-&nbsp;lon1</td></tr>\n",
              "            <tr><td class=\"diff_next\" id=\"difflib_chg_to0__5\"></td><td class=\"diff_header\" id=\"from0_16\">16</td><td nowrap=\"nowrap\"></td><td class=\"diff_next\"></td><td class=\"diff_header\" id=\"to0_13\">13</td><td nowrap=\"nowrap\"></td></tr>\n",
              "            <tr><td class=\"diff_next\"><a href=\"#difflib_chg_to0__5\">n</a></td><td class=\"diff_header\" id=\"from0_17\">17</td><td nowrap=\"nowrap\"><span class=\"diff_sub\">&nbsp;&nbsp;&nbsp;&nbsp;#&nbsp;Calculate&nbsp;the&nbsp;central&nbsp;angle</span></td><td class=\"diff_next\"><a href=\"#difflib_chg_to0__5\">n</a></td><td class=\"diff_header\"></td><td nowrap=\"nowrap\"></td></tr>\n",
              "            <tr><td class=\"diff_next\"></td><td class=\"diff_header\" id=\"from0_18\">18</td><td nowrap=\"nowrap\">&nbsp;&nbsp;&nbsp;&nbsp;a&nbsp;=&nbsp;<span class=\"diff_sub\">math.</span>sin(dlat&nbsp;/&nbsp;2)&nbsp;**&nbsp;2&nbsp;+&nbsp;<span class=\"diff_sub\">math.</span>cos(lat1)&nbsp;*&nbsp;<span class=\"diff_sub\">math.</span>cos(lat2)&nbsp;*&nbsp;<span class=\"diff_sub\">math.</span>sin(dlon&nbsp;/&nbsp;2)&nbsp;**&nbsp;2</td><td class=\"diff_next\"></td><td class=\"diff_header\" id=\"to0_14\">14</td><td nowrap=\"nowrap\">&nbsp;&nbsp;&nbsp;&nbsp;a&nbsp;=&nbsp;sin(dlat&nbsp;/&nbsp;2)&nbsp;**&nbsp;2&nbsp;+&nbsp;cos(lat1)&nbsp;*&nbsp;cos(lat2)&nbsp;*&nbsp;sin(dlon&nbsp;/&nbsp;2)&nbsp;**&nbsp;2</td></tr>\n",
              "            <tr><td class=\"diff_next\" id=\"difflib_chg_to0__6\"></td><td class=\"diff_header\"></td><td nowrap=\"nowrap\"></td><td class=\"diff_next\"></td><td class=\"diff_header\" id=\"to0_15\">15</td><td nowrap=\"nowrap\"><span class=\"diff_add\">&nbsp;&nbsp;&nbsp;&nbsp;c&nbsp;=&nbsp;2&nbsp;*&nbsp;atan2(sqrt(a),&nbsp;sqrt(1&nbsp;-&nbsp;a))</span></td></tr>\n",
              "            <tr><td class=\"diff_next\"></td><td class=\"diff_header\" id=\"from0_19\">19</td><td nowrap=\"nowrap\"></td><td class=\"diff_next\"></td><td class=\"diff_header\" id=\"to0_16\">16</td><td nowrap=\"nowrap\"></td></tr>\n",
              "            <tr><td class=\"diff_next\"><a href=\"#difflib_chg_to0__6\">n</a></td><td class=\"diff_header\" id=\"from0_20\">20</td><td nowrap=\"nowrap\"><span class=\"diff_sub\">&nbsp;&nbsp;&nbsp;&nbsp;#&nbsp;Calculate&nbsp;the&nbsp;great&nbsp;circle&nbsp;distance</span></td><td class=\"diff_next\"><a href=\"#difflib_chg_to0__6\">n</a></td><td class=\"diff_header\" id=\"to0_17\">17</td><td nowrap=\"nowrap\"><span class=\"diff_add\">&nbsp;&nbsp;&nbsp;&nbsp;distance&nbsp;=&nbsp;R&nbsp;*&nbsp;c</span></td></tr>\n",
              "            <tr><td class=\"diff_next\"></td><td class=\"diff_header\" id=\"from0_21\">21</td><td nowrap=\"nowrap\"><span class=\"diff_sub\">&nbsp;&nbsp;&nbsp;&nbsp;distance&nbsp;=&nbsp;2&nbsp;*&nbsp;math.asin(math.sqrt(a))&nbsp;*&nbsp;6371&nbsp;&nbsp;#&nbsp;6371&nbsp;is&nbsp;the&nbsp;radius&nbsp;of&nbsp;the&nbsp;earth&nbsp;in&nbsp;kilometers</span></td><td class=\"diff_next\"></td><td class=\"diff_header\" id=\"to0_18\">18</td><td nowrap=\"nowrap\"><span class=\"diff_add\">&nbsp;&nbsp;&nbsp;&nbsp;return&nbsp;distance</span></td></tr>\n",
              "            <tr><td class=\"diff_next\"></td><td class=\"diff_header\" id=\"from0_22\">22</td><td nowrap=\"nowrap\"></td><td class=\"diff_next\"></td><td class=\"diff_header\" id=\"to0_19\">19</td><td nowrap=\"nowrap\"></td></tr>\n",
              "            <tr><td class=\"diff_next\"><a href=\"#difflib_chg_to0__top\">t</a></td><td class=\"diff_header\" id=\"from0_23\">23</td><td nowrap=\"nowrap\"><span class=\"diff_sub\">&nbsp;&nbsp;&nbsp;&nbsp;#&nbsp;Return&nbsp;the&nbsp;distance</span></td><td class=\"diff_next\"><a href=\"#difflib_chg_to0__top\">t</a></td><td class=\"diff_header\" id=\"to0_20\">20</td><td nowrap=\"nowrap\"><span class=\"diff_add\">#&nbsp;Example&nbsp;usage</span></td></tr>\n",
              "            <tr><td class=\"diff_next\"></td><td class=\"diff_header\" id=\"from0_24\">24</td><td nowrap=\"nowrap\"><span class=\"diff_sub\">&nbsp;&nbsp;&nbsp;&nbsp;return&nbsp;distance</span></td><td class=\"diff_next\"></td><td class=\"diff_header\" id=\"to0_21\">21</td><td nowrap=\"nowrap\"><span class=\"diff_add\">distance&nbsp;=&nbsp;calculate_distance(52.2296756,&nbsp;21.0122287,&nbsp;52.406374,&nbsp;16.9251681)</span></td></tr>\n",
              "            <tr><td class=\"diff_next\"></td><td class=\"diff_header\" id=\"from0_25\">25</td><td nowrap=\"nowrap\"><span class=\"diff_sub\">```</span></td><td class=\"diff_next\"></td><td class=\"diff_header\" id=\"to0_22\">22</td><td nowrap=\"nowrap\"><span class=\"diff_add\">print(distance)</span></td></tr>\n",
              "        </tbody>\n",
              "    </table>\n",
              "</body>\n",
              "\n",
              "</html>"
            ]
          },
          "metadata": {},
          "execution_count": 4
        }
      ]
    },
    {
      "cell_type": "code",
      "source": [],
      "metadata": {
        "id": "vviwKqJDNF3r"
      },
      "execution_count": null,
      "outputs": []
    }
  ]
}