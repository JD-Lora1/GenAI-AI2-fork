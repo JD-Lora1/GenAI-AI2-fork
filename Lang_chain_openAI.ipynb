{
  "nbformat": 4,
  "nbformat_minor": 0,
  "metadata": {
    "colab": {
      "provenance": [],
      "authorship_tag": "ABX9TyP2eSPr8ckrUvT8LvXng/BV",
      "include_colab_link": true
    },
    "kernelspec": {
      "name": "python3",
      "display_name": "Python 3"
    },
    "language_info": {
      "name": "python"
    }
  },
  "cells": [
    {
      "cell_type": "markdown",
      "metadata": {
        "id": "view-in-github",
        "colab_type": "text"
      },
      "source": [
        "<a href=\"https://colab.research.google.com/github/armandoordonez/GenAI/blob/main/Lang_chain_openAI.ipynb\" target=\"_parent\"><img src=\"https://colab.research.google.com/assets/colab-badge.svg\" alt=\"Open In Colab\"/></a>"
      ]
    },
    {
      "cell_type": "code",
      "source": [
        "# ignorar warnings\n",
        "import warnings\n",
        "warnings.filterwarnings('ignore')"
      ],
      "metadata": {
        "id": "JUfDWUyDu073"
      },
      "execution_count": 18,
      "outputs": []
    },
    {
      "cell_type": "code",
      "source": [
        "# Instalar las librerías\n",
        "%pip install langchain python-dotenv openai langchain_community"
      ],
      "metadata": {
        "colab": {
          "base_uri": "https://localhost:8080/"
        },
        "id": "qA_H3JEi0i7D",
        "outputId": "5d778003-219f-49b3-a8b2-614cd6522035"
      },
      "execution_count": 19,
      "outputs": [
        {
          "output_type": "stream",
          "name": "stdout",
          "text": [
            "Requirement already satisfied: langchain in /usr/local/lib/python3.10/dist-packages (0.3.0)\n",
            "Requirement already satisfied: python-dotenv in /usr/local/lib/python3.10/dist-packages (1.0.1)\n",
            "Requirement already satisfied: openai in /usr/local/lib/python3.10/dist-packages (1.47.1)\n",
            "Requirement already satisfied: langchain_community in /usr/local/lib/python3.10/dist-packages (0.3.0)\n",
            "Requirement already satisfied: PyYAML>=5.3 in /usr/local/lib/python3.10/dist-packages (from langchain) (6.0.2)\n",
            "Requirement already satisfied: SQLAlchemy<3,>=1.4 in /usr/local/lib/python3.10/dist-packages (from langchain) (2.0.35)\n",
            "Requirement already satisfied: aiohttp<4.0.0,>=3.8.3 in /usr/local/lib/python3.10/dist-packages (from langchain) (3.10.5)\n",
            "Requirement already satisfied: async-timeout<5.0.0,>=4.0.0 in /usr/local/lib/python3.10/dist-packages (from langchain) (4.0.3)\n",
            "Requirement already satisfied: langchain-core<0.4.0,>=0.3.0 in /usr/local/lib/python3.10/dist-packages (from langchain) (0.3.5)\n",
            "Requirement already satisfied: langchain-text-splitters<0.4.0,>=0.3.0 in /usr/local/lib/python3.10/dist-packages (from langchain) (0.3.0)\n",
            "Requirement already satisfied: langsmith<0.2.0,>=0.1.17 in /usr/local/lib/python3.10/dist-packages (from langchain) (0.1.126)\n",
            "Requirement already satisfied: numpy<2,>=1 in /usr/local/lib/python3.10/dist-packages (from langchain) (1.26.4)\n",
            "Requirement already satisfied: pydantic<3.0.0,>=2.7.4 in /usr/local/lib/python3.10/dist-packages (from langchain) (2.9.2)\n",
            "Requirement already satisfied: requests<3,>=2 in /usr/local/lib/python3.10/dist-packages (from langchain) (2.32.3)\n",
            "Requirement already satisfied: tenacity!=8.4.0,<9.0.0,>=8.1.0 in /usr/local/lib/python3.10/dist-packages (from langchain) (8.5.0)\n",
            "Requirement already satisfied: anyio<5,>=3.5.0 in /usr/local/lib/python3.10/dist-packages (from openai) (3.7.1)\n",
            "Requirement already satisfied: distro<2,>=1.7.0 in /usr/lib/python3/dist-packages (from openai) (1.7.0)\n",
            "Requirement already satisfied: httpx<1,>=0.23.0 in /usr/local/lib/python3.10/dist-packages (from openai) (0.27.2)\n",
            "Requirement already satisfied: jiter<1,>=0.4.0 in /usr/local/lib/python3.10/dist-packages (from openai) (0.5.0)\n",
            "Requirement already satisfied: sniffio in /usr/local/lib/python3.10/dist-packages (from openai) (1.3.1)\n",
            "Requirement already satisfied: tqdm>4 in /usr/local/lib/python3.10/dist-packages (from openai) (4.66.5)\n",
            "Requirement already satisfied: typing-extensions<5,>=4.11 in /usr/local/lib/python3.10/dist-packages (from openai) (4.12.2)\n",
            "Requirement already satisfied: dataclasses-json<0.7,>=0.5.7 in /usr/local/lib/python3.10/dist-packages (from langchain_community) (0.6.7)\n",
            "Requirement already satisfied: pydantic-settings<3.0.0,>=2.4.0 in /usr/local/lib/python3.10/dist-packages (from langchain_community) (2.5.2)\n",
            "Requirement already satisfied: aiohappyeyeballs>=2.3.0 in /usr/local/lib/python3.10/dist-packages (from aiohttp<4.0.0,>=3.8.3->langchain) (2.4.0)\n",
            "Requirement already satisfied: aiosignal>=1.1.2 in /usr/local/lib/python3.10/dist-packages (from aiohttp<4.0.0,>=3.8.3->langchain) (1.3.1)\n",
            "Requirement already satisfied: attrs>=17.3.0 in /usr/local/lib/python3.10/dist-packages (from aiohttp<4.0.0,>=3.8.3->langchain) (24.2.0)\n",
            "Requirement already satisfied: frozenlist>=1.1.1 in /usr/local/lib/python3.10/dist-packages (from aiohttp<4.0.0,>=3.8.3->langchain) (1.4.1)\n",
            "Requirement already satisfied: multidict<7.0,>=4.5 in /usr/local/lib/python3.10/dist-packages (from aiohttp<4.0.0,>=3.8.3->langchain) (6.1.0)\n",
            "Requirement already satisfied: yarl<2.0,>=1.0 in /usr/local/lib/python3.10/dist-packages (from aiohttp<4.0.0,>=3.8.3->langchain) (1.11.1)\n",
            "Requirement already satisfied: idna>=2.8 in /usr/local/lib/python3.10/dist-packages (from anyio<5,>=3.5.0->openai) (3.10)\n",
            "Requirement already satisfied: exceptiongroup in /usr/local/lib/python3.10/dist-packages (from anyio<5,>=3.5.0->openai) (1.2.2)\n",
            "Requirement already satisfied: marshmallow<4.0.0,>=3.18.0 in /usr/local/lib/python3.10/dist-packages (from dataclasses-json<0.7,>=0.5.7->langchain_community) (3.22.0)\n",
            "Requirement already satisfied: typing-inspect<1,>=0.4.0 in /usr/local/lib/python3.10/dist-packages (from dataclasses-json<0.7,>=0.5.7->langchain_community) (0.9.0)\n",
            "Requirement already satisfied: certifi in /usr/local/lib/python3.10/dist-packages (from httpx<1,>=0.23.0->openai) (2024.8.30)\n",
            "Requirement already satisfied: httpcore==1.* in /usr/local/lib/python3.10/dist-packages (from httpx<1,>=0.23.0->openai) (1.0.5)\n",
            "Requirement already satisfied: h11<0.15,>=0.13 in /usr/local/lib/python3.10/dist-packages (from httpcore==1.*->httpx<1,>=0.23.0->openai) (0.14.0)\n",
            "Requirement already satisfied: jsonpatch<2.0,>=1.33 in /usr/local/lib/python3.10/dist-packages (from langchain-core<0.4.0,>=0.3.0->langchain) (1.33)\n",
            "Requirement already satisfied: packaging<25,>=23.2 in /usr/local/lib/python3.10/dist-packages (from langchain-core<0.4.0,>=0.3.0->langchain) (24.1)\n",
            "Requirement already satisfied: orjson<4.0.0,>=3.9.14 in /usr/local/lib/python3.10/dist-packages (from langsmith<0.2.0,>=0.1.17->langchain) (3.10.7)\n",
            "Requirement already satisfied: annotated-types>=0.6.0 in /usr/local/lib/python3.10/dist-packages (from pydantic<3.0.0,>=2.7.4->langchain) (0.7.0)\n",
            "Requirement already satisfied: pydantic-core==2.23.4 in /usr/local/lib/python3.10/dist-packages (from pydantic<3.0.0,>=2.7.4->langchain) (2.23.4)\n",
            "Requirement already satisfied: charset-normalizer<4,>=2 in /usr/local/lib/python3.10/dist-packages (from requests<3,>=2->langchain) (3.3.2)\n",
            "Requirement already satisfied: urllib3<3,>=1.21.1 in /usr/local/lib/python3.10/dist-packages (from requests<3,>=2->langchain) (2.2.3)\n",
            "Requirement already satisfied: greenlet!=0.4.17 in /usr/local/lib/python3.10/dist-packages (from SQLAlchemy<3,>=1.4->langchain) (3.1.0)\n",
            "Requirement already satisfied: jsonpointer>=1.9 in /usr/local/lib/python3.10/dist-packages (from jsonpatch<2.0,>=1.33->langchain-core<0.4.0,>=0.3.0->langchain) (3.0.0)\n",
            "Requirement already satisfied: mypy-extensions>=0.3.0 in /usr/local/lib/python3.10/dist-packages (from typing-inspect<1,>=0.4.0->dataclasses-json<0.7,>=0.5.7->langchain_community) (1.0.0)\n"
          ]
        }
      ]
    },
    {
      "cell_type": "code",
      "source": [
        "# imports from langchain package\n",
        "from langchain.llms import OpenAI\n",
        "from langchain.chat_models import ChatOpenAI\n",
        "from langchain.prompts import PromptTemplate"
      ],
      "metadata": {
        "id": "eN65NLlpzBHx"
      },
      "execution_count": 20,
      "outputs": []
    },
    {
      "cell_type": "code",
      "source": [
        "# Codigo para obtener el APIKEY de Google Collab\n",
        "from google.colab import userdata\n",
        "OPENAI_API_KEY= userdata.get('OPENAI_API_KEY')"
      ],
      "metadata": {
        "id": "sZjEhkw2zL0B"
      },
      "execution_count": 21,
      "outputs": []
    },
    {
      "cell_type": "code",
      "source": [
        "# Creamos el modelo desde OpenAI\n",
        "llm = OpenAI(openai_api_key=OPENAI_API_KEY) # Language Model\n",
        "chat_model = ChatOpenAI(openai_api_key=OPENAI_API_KEY) # Another LLM interface"
      ],
      "metadata": {
        "id": "K7dR1Af-4YAv"
      },
      "execution_count": 22,
      "outputs": []
    },
    {
      "cell_type": "code",
      "source": [
        "# Vamos a medir el tiempo de la llamada al API\n",
        "import time\n",
        "\n",
        "start_time = time.time()\n",
        "question = \"Cual es el sentido de la vida en menos de 20 palabras?\"\n",
        "\n",
        "# use llm.predict to get the answer\n",
        "answer = llm.predict(question).strip()\n",
        "end_time = time.time()\n",
        "\n",
        "print(question)\n",
        "print(\"Answer from the LLM: \", answer)\n",
        "print(f\"Time taken: {end_time - start_time} seconds\")\n",
        "\n",
        "start_time = time.time()\n",
        "# use chat_model.predict to get the answer\n",
        "answer = chat_model.predict(question).strip()\n",
        "end_time = time.time()\n",
        "print(\"Answer from the Chatbot: \", question)\n",
        "print(answer)\n",
        "print(f\"Time taken: {end_time - start_time} seconds\")\n"
      ],
      "metadata": {
        "colab": {
          "base_uri": "https://localhost:8080/"
        },
        "id": "z7s5q8tozL4Z",
        "outputId": "fbf278fa-f678-4135-e574-f24fca1862be"
      },
      "execution_count": 24,
      "outputs": [
        {
          "output_type": "stream",
          "name": "stdout",
          "text": [
            "Cual es el sentido de la vida en menos de 20 palabras?\n",
            "Answer from the LLM:  El sentido de la vida es encontrar la felicidad y el propósito en todo lo que hacemos.\n",
            "Time taken: 0.8078198432922363 seconds\n",
            "Answer from the Chatbot:  Cual es el sentido de la vida en menos de 20 palabras?\n",
            "Crear significado y encontrar la felicidad en nuestras experiencias y relaciones para vivir plenamente y en armonía con el mundo.\n",
            "Time taken: 0.7499279975891113 seconds\n"
          ]
        }
      ]
    },
    {
      "cell_type": "code",
      "source": [
        "# prompt template para preguntas parametrizadas\n",
        "\n",
        "promptTemplate = PromptTemplate.from_template(\n",
        "    \"Cual es el {tema} en el contexto de {contexto} en menos de {palabras} palabras?\"\n",
        "    )\n",
        "\n",
        "# this format the prompt template with the given parameters\n",
        "prompt = promptTemplate.format(\n",
        "    tema=\"objetivo\",\n",
        "    contexto=\"futbol\", palabras='20')\n",
        "\n",
        "print(prompt)"
      ],
      "metadata": {
        "colab": {
          "base_uri": "https://localhost:8080/"
        },
        "id": "m5WUGQEbzL8K",
        "outputId": "f1bf0148-9001-415f-bcce-96c56271d4c0"
      },
      "execution_count": 26,
      "outputs": [
        {
          "output_type": "stream",
          "name": "stdout",
          "text": [
            "Cual es el objetivo en el contexto de futbol en menos de 20 palabras?\n"
          ]
        }
      ]
    },
    {
      "cell_type": "code",
      "execution_count": 31,
      "metadata": {
        "colab": {
          "base_uri": "https://localhost:8080/"
        },
        "id": "8ukkY5kojkAQ",
        "outputId": "2eeefcfa-bb1d-4b1a-9adc-a7b42bcfff25"
      },
      "outputs": [
        {
          "output_type": "stream",
          "name": "stdout",
          "text": [
            "{   'pregunta': 'Cual es el El sentido de la vida en el contexto de biologia '\n",
            "                'en menos de 20 palabras?',\n",
            "    'respuesta': 'Reproducirse y transmitir los genes para garantizar la '\n",
            "                 'supervivencia de la especie en un entorno cambiante.'}\n",
            "{   'pregunta': 'Cual es el El sentido de la vida en el contexto de filosofia '\n",
            "                'en menos de 20 palabras?',\n",
            "    'respuesta': 'Encontrar significado y propósito en la existencia, a través '\n",
            "                 'de la reflexión, el amor, la ética y la trascendencia.'}\n",
            "{   'pregunta': 'Cual es el El sentido de la vida en el contexto de fisica en '\n",
            "                'menos de 20 palabras?',\n",
            "    'respuesta': 'El sentido de la vida en el contexto de la física es la '\n",
            "                 'búsqueda del equilibrio y la armonía cósmica.'}\n"
          ]
        }
      ],
      "source": [
        "#imprimir\n",
        "import pprint\n",
        "\n",
        "def get_answer(topic, context, palabras):\n",
        "    \"\"\"\n",
        "    This function returns the answer to the question \"What is {topic} in the context of {context}?\"\n",
        "    in dictionary format\n",
        "    \"\"\"\n",
        "    promptTemplate = PromptTemplate.from_template(\n",
        "    \"Cual es el {tema} en el contexto de {contexto} en menos de {palabras} palabras?\"\n",
        "    )\n",
        "    question = promptTemplate.format(\n",
        "        tema=topic,\n",
        "        contexto=context, palabras= palabras)\n",
        "    answer = chat_model.predict(question).strip()\n",
        "    return {\"pregunta\": question, \"respuesta\": answer}\n",
        "\n",
        "pp = pprint.PrettyPrinter(indent=4) # for pretty printing the output\n",
        "pp.pprint(get_answer(\"El sentido de la vida\", \"biologia\",\"20\"))\n",
        "pp.pprint(get_answer(\"El sentido de la vida\", \"filosofia\",\"20\"))\n",
        "pp.pprint(get_answer(\"El sentido de la vida\", \"fisica\",\"20\"))\n",
        "\n"
      ]
    },
    {
      "cell_type": "code",
      "source": [],
      "metadata": {
        "id": "0cskmlTvt15k"
      },
      "execution_count": null,
      "outputs": []
    }
  ]
}